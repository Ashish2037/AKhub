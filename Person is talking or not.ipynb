{
 "cells": [
  {
   "cell_type": "code",
   "execution_count": 8,
   "id": "d427b251",
   "metadata": {},
   "outputs": [],
   "source": [
    "import cv2\n",
    "import mediapipe as mp\n",
    "\n",
    "mp_face_mesh = mp.solutions.face_mesh\n",
    "mp_drawing = mp.solutions.drawing_utils\n",
    "\n",
    "\n",
    "cap = cv2.VideoCapture(0)\n",
    "\n",
    "mouth_open_threshold = 1\n",
    "\n",
    "with mp_face_mesh.FaceMesh(min_detection_confidence=0.5, min_tracking_confidence=0.5) as face_mesh:\n",
    "    while True:\n",
    "       \n",
    "        ret, frame = cap.read()\n",
    "        \n",
    "       \n",
    "        frame_rgb = cv2.cvtColor(frame, cv2.COLOR_BGR2RGB)\n",
    "        \n",
    "       \n",
    "        results = face_mesh.process(frame_rgb)\n",
    "        \n",
    "        if results.multi_face_landmarks:\n",
    "            for landmarks in results.multi_face_landmarks:\n",
    "                # to Extract landmarks for the upper and lower lips\n",
    "                upper_lip_landmarks = [landmarks.landmark[i] for i in range(13, 20)]\n",
    "                lower_lip_landmarks = [landmarks.landmark[i] for i in range(7, 13)]\n",
    "                \n",
    "                # to Calculate the distance between the upper and lower lip landmarks\n",
    "                lip_distance = sum([abs(upper_lip.x - lower_lip.x) + abs(upper_lip.y - lower_lip.y) for upper_lip, lower_lip in zip(upper_lip_landmarks, lower_lip_landmarks)])\n",
    "                \n",
    "                \n",
    "                mouth_open = lip_distance > mouth_open_threshold\n",
    "                \n",
    "                # Display the mouth openness status\n",
    "                status_text = \"Mouth Open\" if mouth_open else \"Mouth Closed\"\n",
    "                cv2.putText(frame, status_text, (10, 50), cv2.FONT_HERSHEY_SIMPLEX, 1, (0, 0, 255), 2)\n",
    "        \n",
    "       \n",
    "        cv2.imshow('Mouth Openness Detection', frame)\n",
    "        \n",
    "        \n",
    "        if cv2.waitKey(1) & 0xFF == ord('q'):\n",
    "            break\n",
    "\n",
    "\n",
    "cap.release()\n",
    "cv2.destroyAllWindows()\n"
   ]
  },
  {
   "cell_type": "code",
   "execution_count": null,
   "id": "958e1a04",
   "metadata": {},
   "outputs": [],
   "source": []
  },
  {
   "cell_type": "code",
   "execution_count": null,
   "id": "985f6ea6",
   "metadata": {},
   "outputs": [],
   "source": []
  }
 ],
 "metadata": {
  "kernelspec": {
   "display_name": "Python 3 (ipykernel)",
   "language": "python",
   "name": "python3"
  },
  "language_info": {
   "codemirror_mode": {
    "name": "ipython",
    "version": 3
   },
   "file_extension": ".py",
   "mimetype": "text/x-python",
   "name": "python",
   "nbconvert_exporter": "python",
   "pygments_lexer": "ipython3",
   "version": "3.11.3"
  }
 },
 "nbformat": 4,
 "nbformat_minor": 5
}
