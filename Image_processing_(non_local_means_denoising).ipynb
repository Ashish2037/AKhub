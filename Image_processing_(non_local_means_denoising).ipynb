{
 "cells": [
  {
   "cell_type": "code",
   "execution_count": null,
   "id": "ca43114c",
   "metadata": {},
   "outputs": [],
   "source": [
    "import numpy as np\n",
    "import cv2"
   ]
  },
  {
   "cell_type": "code",
   "execution_count": null,
   "id": "87b47d22",
   "metadata": {},
   "outputs": [],
   "source": [
    "\n",
    "# function to add the noise in the image\n",
    "def add_noise(image, mean, std_dev):\n",
    "    row,col,rgb=image.shape\n",
    "    noise=np.random.normal(mean,std_dev,(row,col,rgb))\n",
    "    noisy_image=np.clip(image+noise,0,255).astype(np.uint8)\n",
    "    return noisy_image\n",
    "\n",
    "# Function to implement the non-local means denoising algorithm\n",
    "def non_local_means_denoising(image, h, window_size):\n",
    "    return cv2.fastNlMeansDenoisingColored(image, None, h, h, window_size, window_size)\n",
    "\n",
    "image = cv2.imread('pic.jpg')\n",
    "\n",
    "# Define different noise levels and window sizes\n",
    "noise_levels = [10, 30, 50]\n",
    "window_sizes = [3, 5, 7]\n",
    "\n",
    "for i in noise_levels:\n",
    "    for j in window_sizes:\n",
    "        noisy_image = add_noise(image, mean=0, std_dev=i)\n",
    "\n",
    "        denoised_image = non_local_means_denoising(noisy_image, h=10, window_size=j)\n",
    "\n",
    "        cv2.imshow(f\"Noise Level: {i}, Window Size: {j}\", np.hstack([image, noisy_image, denoised_image]))\n",
    "        cv2.waitKey(0)\n",
    "\n",
    "\n"
   ]
  },
  {
   "cell_type": "code",
   "execution_count": null,
   "id": "283312e8",
   "metadata": {},
   "outputs": [],
   "source": []
  }
 ],
 "metadata": {
  "kernelspec": {
   "display_name": "Python 3 (ipykernel)",
   "language": "python",
   "name": "python3"
  },
  "language_info": {
   "codemirror_mode": {
    "name": "ipython",
    "version": 3
   },
   "file_extension": ".py",
   "mimetype": "text/x-python",
   "name": "python",
   "nbconvert_exporter": "python",
   "pygments_lexer": "ipython3",
   "version": "3.11.1"
  }
 },
 "nbformat": 4,
 "nbformat_minor": 5
}
