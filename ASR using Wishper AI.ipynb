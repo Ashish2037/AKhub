{
 "cells": [
  {
   "cell_type": "code",
   "execution_count": 2,
   "metadata": {
    "id": "xWPKcBK1Yq9S"
   },
   "outputs": [
    {
     "name": "stderr",
     "output_type": "stream",
     "text": [
      "C:\\Users\\Ashish Kumar Singh\\AppData\\Local\\Programs\\Python\\Python311\\Lib\\site-packages\\tqdm\\auto.py:21: TqdmWarning: IProgress not found. Please update jupyter and ipywidgets. See https://ipywidgets.readthedocs.io/en/stable/user_install.html\n",
      "  from .autonotebook import tqdm as notebook_tqdm\n"
     ]
    }
   ],
   "source": [
    "import torch\n",
    "from transformers import pipeline\n",
    "import whisper\n",
    "asr = pipeline(\n",
    "  \"automatic-speech-recognition\",\n",
    "  model=\"openai/whisper-tiny\",\n",
    "  chunk_length_s=30\n",
    ")\n",
    "\n"
   ]
  },
  {
   "cell_type": "code",
   "execution_count": 3,
   "metadata": {},
   "outputs": [
    {
     "name": "stdout",
     "output_type": "stream",
     "text": [
      "PLEASE START SPEEKING.....\n",
      "RECORDING STOP\n"
     ]
    }
   ],
   "source": [
    "import pyaudio\n",
    "import wave\n",
    "import speech_recognition as sr\n",
    "\n",
    "FORMAT = pyaudio.paInt16  \n",
    "CHANNELS = 1 \n",
    "RATE = 44100 \n",
    "RECORD_SECONDS =1  \n",
    "audio = pyaudio.PyAudio()\n",
    "\n",
    "stream = audio.open(format=FORMAT, channels=CHANNELS,                              \n",
    "                    rate=RATE, input=True,\n",
    "                    frames_per_buffer=1024)\n",
    "\n",
    "print(\"PLEASE START SPEEKING.....\")\n",
    "\n",
    "frames = []\n",
    "\n",
    "for _ in range(0, int(RATE / 1024 * RECORD_SECONDS)):\n",
    "    data = stream.read(1024)                                             # duration for the audio recording\n",
    "    frames.append(data)\n",
    "\n",
    "print(\"RECORDING STOP\")\n",
    "\n",
    "                                                                              \n",
    "stream.stop_stream()                          # Stop and close the audio stream\n",
    "stream.close()\n",
    "\n",
    "\n",
    "audio.terminate()          # Terminate the PyAudio instance\n",
    "\n",
    "\n",
    "with wave.open(\"recorded_audio.wav\" , 'wb') as wf:\n",
    "    wf.setnchannels(CHANNELS)\n",
    "    wf.setsampwidth(audio.get_sample_size(FORMAT))\n",
    "    wf.setframerate(RATE)\n",
    "    wf.writeframes(b''.join(frames))\n"
   ]
  },
  {
   "cell_type": "code",
   "execution_count": 4,
   "metadata": {},
   "outputs": [
    {
     "name": "stdout",
     "output_type": "stream",
     "text": [
      " you\n"
     ]
    }
   ],
   "source": [
    "audio_file_path = \"recorded_audio.wav\"\n",
    "text = asr(audio_file_path, batch_size=8)['text']\n",
    "print(text)"
   ]
  },
  {
   "cell_type": "code",
   "execution_count": 4,
   "metadata": {},
   "outputs": [],
   "source": [
    "with open(\"response.txt\",'w') as file:\n",
    "    file.write(text)"
   ]
  },
  {
   "cell_type": "code",
   "execution_count": null,
   "metadata": {},
   "outputs": [],
   "source": []
  }
 ],
 "metadata": {
  "colab": {
   "provenance": []
  },
  "kernelspec": {
   "display_name": "Python 3 (ipykernel)",
   "language": "python",
   "name": "python3"
  },
  "language_info": {
   "codemirror_mode": {
    "name": "ipython",
    "version": 3
   },
   "file_extension": ".py",
   "mimetype": "text/x-python",
   "name": "python",
   "nbconvert_exporter": "python",
   "pygments_lexer": "ipython3",
   "version": "3.11.3"
  }
 },
 "nbformat": 4,
 "nbformat_minor": 1
}
