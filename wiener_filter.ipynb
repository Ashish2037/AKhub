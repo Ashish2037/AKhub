{
 "cells": [
  {
   "cell_type": "code",
   "execution_count": 1,
   "id": "cd2454c3",
   "metadata": {},
   "outputs": [],
   "source": [
    "import numpy as np\n",
    "import cv2"
   ]
  },
  {
   "cell_type": "code",
   "execution_count": 2,
   "id": "9eed9de8",
   "metadata": {},
   "outputs": [],
   "source": [
    "# function to add the noise in the image\n",
    "def add_noise(image, mean, std_dev):\n",
    "    row,col,rgb=image.shape\n",
    "    noise=np.random.normal(mean,std_dev,(row,col,rgb))\n",
    "    noisy_image=np.clip(image+noise,0,255).astype(np.uint8)\n",
    "    return noisy_image"
   ]
  },
  {
   "cell_type": "code",
   "execution_count": 26,
   "id": "3a54b18f",
   "metadata": {},
   "outputs": [],
   "source": [
    "# wiener function to restore the image\n",
    "def wiener_filter(image,psf,noise_var):\n",
    "    row,col,rgb=image.shape\n",
    "    psf_fft=np.fft.fft2(psf,s=image.shape[:2])\n",
    "    image_fft=np.fft.fft2(image,s=image.shape[:2])\n",
    "    psf_conj=np.conj(psf_fft)\n",
    "    wiener_filter=psf_conj/(np.abs(psf_fft)**2+noise_var)\n",
    "    restored_image_fft=image_fft*wiener_filter\n",
    "    restored_image=np.abs(np.fft.ifft2(restored_image_fft)).astype(np.uint8)\n",
    "    return restored_image\n",
    "    "
   ]
  },
  {
   "cell_type": "code",
   "execution_count": 32,
   "id": "4169f69c",
   "metadata": {},
   "outputs": [],
   "source": [
    "img=cv2.imread('pic.jpg')\n",
    "image=cv2.resize(img,(255,255))"
   ]
  },
  {
   "cell_type": "code",
   "execution_count": 33,
   "id": "7f604e50",
   "metadata": {},
   "outputs": [
    {
     "name": "stdout",
     "output_type": "stream",
     "text": [
      "(255, 255, 3)\n"
     ]
    }
   ],
   "source": [
    "print(image.shape)"
   ]
  },
  {
   "cell_type": "code",
   "execution_count": 34,
   "id": "53e548cd",
   "metadata": {},
   "outputs": [
    {
     "name": "stdout",
     "output_type": "stream",
     "text": [
      "(255, 255, 3)\n"
     ]
    }
   ],
   "source": [
    "noisy_image=add_noise(image,mean=0,std_dev=30)\n",
    "print(noisy_image.shape)"
   ]
  },
  {
   "cell_type": "code",
   "execution_count": 35,
   "id": "7b52236a",
   "metadata": {},
   "outputs": [],
   "source": [
    "psf=np.ones((5,5))/25\n",
    "noise_var=np.var(noisy_image-image)"
   ]
  },
  {
   "cell_type": "code",
   "execution_count": 36,
   "id": "a731fa46",
   "metadata": {},
   "outputs": [],
   "source": [
    "restored_image=wiener_filter(noisy_image,psf,noise_var)\n"
   ]
  },
  {
   "cell_type": "code",
   "execution_count": null,
   "id": "895601c3",
   "metadata": {},
   "outputs": [],
   "source": [
    "cv2.imshow('origional_image',image)\n",
    "cv2.imshow('noisy_image',noisy_image)\n",
    "cv2.imshow('restored_image',restored_image)\n",
    "cv2.waitKey(0)\n"
   ]
  },
  {
   "cell_type": "code",
   "execution_count": null,
   "id": "7d20eeeb",
   "metadata": {},
   "outputs": [],
   "source": []
  }
 ],
 "metadata": {
  "kernelspec": {
   "display_name": "Python 3 (ipykernel)",
   "language": "python",
   "name": "python3"
  },
  "language_info": {
   "codemirror_mode": {
    "name": "ipython",
    "version": 3
   },
   "file_extension": ".py",
   "mimetype": "text/x-python",
   "name": "python",
   "nbconvert_exporter": "python",
   "pygments_lexer": "ipython3",
   "version": "3.11.1"
  }
 },
 "nbformat": 4,
 "nbformat_minor": 5
}
